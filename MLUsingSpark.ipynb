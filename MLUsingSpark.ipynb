{
  "nbformat": 4,
  "nbformat_minor": 0,
  "metadata": {
    "colab": {
      "name": "Untitled0.ipynb",
      "provenance": [],
      "collapsed_sections": [],
      "authorship_tag": "ABX9TyPu7EJF7Ag8nQ3pYy3djB5M",
      "include_colab_link": true
    },
    "kernelspec": {
      "name": "python3",
      "display_name": "Python 3"
    },
    "language_info": {
      "name": "python"
    }
  },
  "cells": [
    {
      "cell_type": "markdown",
      "metadata": {
        "id": "view-in-github",
        "colab_type": "text"
      },
      "source": [
        "<a href=\"https://colab.research.google.com/github/sjtalkar/DP-203-Azure-Data-Engineering-Notes/blob/main/MLUsingSpark.ipynb\" target=\"_parent\"><img src=\"https://colab.research.google.com/assets/colab-badge.svg\" alt=\"Open In Colab\"/></a>"
      ]
    },
    {
      "cell_type": "code",
      "metadata": {
        "id": "DVABqBTVQbHx"
      },
      "source": [
        "import pandas as pd\n",
        "#https://towardsdatascience.com/how-to-successfully-add-large-data-sets-to-google-drive-130beb320f1a"
      ],
      "execution_count": 1,
      "outputs": []
    },
    {
      "cell_type": "markdown",
      "metadata": {
        "id": "1YigqZ2lQdAS"
      },
      "source": [
        "# New Section"
      ]
    },
    {
      "cell_type": "code",
      "metadata": {
        "colab": {
          "base_uri": "https://localhost:8080/"
        },
        "id": "BobKsSs4Q2uc",
        "outputId": "21ba0d1c-e314-4cfd-e12c-54438a601611"
      },
      "source": [
        "from google.colab import drive\n",
        "drive.mount('/content/drive')"
      ],
      "execution_count": 2,
      "outputs": [
        {
          "output_type": "stream",
          "name": "stdout",
          "text": [
            "Drive already mounted at /content/drive; to attempt to forcibly remount, call drive.mount(\"/content/drive\", force_remount=True).\n"
          ]
        }
      ]
    },
    {
      "cell_type": "code",
      "metadata": {
        "colab": {
          "base_uri": "https://localhost:8080/"
        },
        "id": "47I3Fk_WSHeR",
        "outputId": "feb1c160-aeaf-4000-f1c1-380dda75fcda"
      },
      "source": [
        "%ls\n",
        "\n",
        "%cd '/content/drive/My Drive/Databricks/'\n",
        "!pwd"
      ],
      "execution_count": 3,
      "outputs": [
        {
          "output_type": "stream",
          "name": "stdout",
          "text": [
            "\u001b[0m\u001b[01;34mdrive\u001b[0m/  \u001b[01;34msample_data\u001b[0m/\n",
            "/content/drive/My Drive/Databricks\n",
            "/content/drive/My Drive/Databricks\n"
          ]
        }
      ]
    },
    {
      "cell_type": "code",
      "metadata": {
        "colab": {
          "base_uri": "https://localhost:8080/"
        },
        "id": "V5nvDnZ9Wlyn",
        "outputId": "0641e2ad-3907-4d91-ab41-7bce964ed5b4"
      },
      "source": [
        "!pwd"
      ],
      "execution_count": 4,
      "outputs": [
        {
          "output_type": "stream",
          "name": "stdout",
          "text": [
            "/content/drive/My Drive/Databricks\n"
          ]
        }
      ]
    },
    {
      "cell_type": "code",
      "metadata": {
        "colab": {
          "base_uri": "https://localhost:8080/"
        },
        "id": "IaPx6CHkWkNF",
        "outputId": "e8f82ce2-4381-4729-f785-582e4425423b"
      },
      "source": [
        "#you can only apply this to a file not a directory\n",
        "#!7z e 'members_v3.csv.7z'"
      ],
      "execution_count": 26,
      "outputs": [
        {
          "output_type": "stream",
          "name": "stdout",
          "text": [
            "/content/drive/My Drive/Databricks\n"
          ]
        }
      ]
    },
    {
      "cell_type": "code",
      "metadata": {
        "id": "CqaFXJ5-Xd6E"
      },
      "source": [
        "#moving to the path containing the files opens them consistently\n",
        "members = pd.read_csv('members.csv')\n",
        "transactions = pd.read_csv('transactions.csv')\n",
        "user_logs =  pd.read_csv('user_logs.csv')\n",
        "\n",
        " \n"
      ],
      "execution_count": 5,
      "outputs": []
    },
    {
      "cell_type": "code",
      "metadata": {
        "id": "_NuVy02Ea5oZ"
      },
      "source": [
        "#!7z e 'train_v2.csv.7z'\n"
      ],
      "execution_count": 10,
      "outputs": []
    },
    {
      "cell_type": "code",
      "metadata": {
        "id": "_xT527q0RMXI"
      },
      "source": [
        "train = pd.read_csv('train_v2.csv')"
      ],
      "execution_count": 8,
      "outputs": []
    },
    {
      "cell_type": "code",
      "metadata": {
        "colab": {
          "base_uri": "https://localhost:8080/",
          "height": 417
        },
        "id": "e8Lxhm0KSqVo",
        "outputId": "1c3815e0-9abe-40e0-92f5-e8b0691740b7"
      },
      "source": [
        "train"
      ],
      "execution_count": 9,
      "outputs": [
        {
          "output_type": "execute_result",
          "data": {
            "text/html": [
              "<div>\n",
              "<style scoped>\n",
              "    .dataframe tbody tr th:only-of-type {\n",
              "        vertical-align: middle;\n",
              "    }\n",
              "\n",
              "    .dataframe tbody tr th {\n",
              "        vertical-align: top;\n",
              "    }\n",
              "\n",
              "    .dataframe thead th {\n",
              "        text-align: right;\n",
              "    }\n",
              "</style>\n",
              "<table border=\"1\" class=\"dataframe\">\n",
              "  <thead>\n",
              "    <tr style=\"text-align: right;\">\n",
              "      <th></th>\n",
              "      <th>msno</th>\n",
              "      <th>is_churn</th>\n",
              "    </tr>\n",
              "  </thead>\n",
              "  <tbody>\n",
              "    <tr>\n",
              "      <th>0</th>\n",
              "      <td>ugx0CjOMzazClkFzU2xasmDZaoIqOUAZPsH1q0teWCg=</td>\n",
              "      <td>1</td>\n",
              "    </tr>\n",
              "    <tr>\n",
              "      <th>1</th>\n",
              "      <td>f/NmvEzHfhINFEYZTR05prUdr+E+3+oewvweYz9cCQE=</td>\n",
              "      <td>1</td>\n",
              "    </tr>\n",
              "    <tr>\n",
              "      <th>2</th>\n",
              "      <td>zLo9f73nGGT1p21ltZC3ChiRnAVvgibMyazbCxvWPcg=</td>\n",
              "      <td>1</td>\n",
              "    </tr>\n",
              "    <tr>\n",
              "      <th>3</th>\n",
              "      <td>8iF/+8HY8lJKFrTc7iR9ZYGCG2Ecrogbc2Vy5YhsfhQ=</td>\n",
              "      <td>1</td>\n",
              "    </tr>\n",
              "    <tr>\n",
              "      <th>4</th>\n",
              "      <td>K6fja4+jmoZ5xG6BypqX80Uw/XKpMgrEMdG2edFOxnA=</td>\n",
              "      <td>1</td>\n",
              "    </tr>\n",
              "    <tr>\n",
              "      <th>...</th>\n",
              "      <td>...</td>\n",
              "      <td>...</td>\n",
              "    </tr>\n",
              "    <tr>\n",
              "      <th>970955</th>\n",
              "      <td>OHnZbu+EVaP+vN7Z+OfT5OMcp90MWFZonmM0o3pb8FY=</td>\n",
              "      <td>0</td>\n",
              "    </tr>\n",
              "    <tr>\n",
              "      <th>970956</th>\n",
              "      <td>S92bDK//uI6hk3u1vuApro0qJBQOToBozZ7lL1yTC+w=</td>\n",
              "      <td>0</td>\n",
              "    </tr>\n",
              "    <tr>\n",
              "      <th>970957</th>\n",
              "      <td>eUa3xo16vpAjr43Cjlb6Kjf1NTILYyJIkBayJQdXWnw=</td>\n",
              "      <td>0</td>\n",
              "    </tr>\n",
              "    <tr>\n",
              "      <th>970958</th>\n",
              "      <td>iZE41tbAQ65rJq60olkJT4BJzuUAYgQdfbEemXe/TTk=</td>\n",
              "      <td>0</td>\n",
              "    </tr>\n",
              "    <tr>\n",
              "      <th>970959</th>\n",
              "      <td>oECkzJik4wKsbOEVY6UACLbmgM8qymFdb5cJaHrodY8=</td>\n",
              "      <td>0</td>\n",
              "    </tr>\n",
              "  </tbody>\n",
              "</table>\n",
              "<p>970960 rows × 2 columns</p>\n",
              "</div>"
            ],
            "text/plain": [
              "                                                msno  is_churn\n",
              "0       ugx0CjOMzazClkFzU2xasmDZaoIqOUAZPsH1q0teWCg=         1\n",
              "1       f/NmvEzHfhINFEYZTR05prUdr+E+3+oewvweYz9cCQE=         1\n",
              "2       zLo9f73nGGT1p21ltZC3ChiRnAVvgibMyazbCxvWPcg=         1\n",
              "3       8iF/+8HY8lJKFrTc7iR9ZYGCG2Ecrogbc2Vy5YhsfhQ=         1\n",
              "4       K6fja4+jmoZ5xG6BypqX80Uw/XKpMgrEMdG2edFOxnA=         1\n",
              "...                                              ...       ...\n",
              "970955  OHnZbu+EVaP+vN7Z+OfT5OMcp90MWFZonmM0o3pb8FY=         0\n",
              "970956  S92bDK//uI6hk3u1vuApro0qJBQOToBozZ7lL1yTC+w=         0\n",
              "970957  eUa3xo16vpAjr43Cjlb6Kjf1NTILYyJIkBayJQdXWnw=         0\n",
              "970958  iZE41tbAQ65rJq60olkJT4BJzuUAYgQdfbEemXe/TTk=         0\n",
              "970959  oECkzJik4wKsbOEVY6UACLbmgM8qymFdb5cJaHrodY8=         0\n",
              "\n",
              "[970960 rows x 2 columns]"
            ]
          },
          "metadata": {},
          "execution_count": 9
        }
      ]
    },
    {
      "cell_type": "code",
      "metadata": {
        "colab": {
          "base_uri": "https://localhost:8080/",
          "height": 437
        },
        "id": "19EFMAk2ZFk-",
        "outputId": "90c939ae-e008-4636-8d65-6764b4545cb0"
      },
      "source": [
        "transactions"
      ],
      "execution_count": 11,
      "outputs": [
        {
          "output_type": "execute_result",
          "data": {
            "text/html": [
              "<div>\n",
              "<style scoped>\n",
              "    .dataframe tbody tr th:only-of-type {\n",
              "        vertical-align: middle;\n",
              "    }\n",
              "\n",
              "    .dataframe tbody tr th {\n",
              "        vertical-align: top;\n",
              "    }\n",
              "\n",
              "    .dataframe thead th {\n",
              "        text-align: right;\n",
              "    }\n",
              "</style>\n",
              "<table border=\"1\" class=\"dataframe\">\n",
              "  <thead>\n",
              "    <tr style=\"text-align: right;\">\n",
              "      <th></th>\n",
              "      <th>msno</th>\n",
              "      <th>payment_method_id</th>\n",
              "      <th>payment_plan_days</th>\n",
              "      <th>plan_list_price</th>\n",
              "      <th>actual_amount_paid</th>\n",
              "      <th>is_auto_renew</th>\n",
              "      <th>transaction_date</th>\n",
              "      <th>membership_expire_date</th>\n",
              "      <th>is_cancel</th>\n",
              "    </tr>\n",
              "  </thead>\n",
              "  <tbody>\n",
              "    <tr>\n",
              "      <th>0</th>\n",
              "      <td>++6eU4LsQ3UQ20ILS7d99XK8WbiVgbyYL4FUgzZR134=</td>\n",
              "      <td>32</td>\n",
              "      <td>90</td>\n",
              "      <td>298</td>\n",
              "      <td>298</td>\n",
              "      <td>0</td>\n",
              "      <td>20170131</td>\n",
              "      <td>20170504</td>\n",
              "      <td>0</td>\n",
              "    </tr>\n",
              "    <tr>\n",
              "      <th>1</th>\n",
              "      <td>++lvGPJOinuin/8esghpnqdljm6NXS8m8Zwchc7gOeA=</td>\n",
              "      <td>41</td>\n",
              "      <td>30</td>\n",
              "      <td>149</td>\n",
              "      <td>149</td>\n",
              "      <td>1</td>\n",
              "      <td>20150809</td>\n",
              "      <td>20190412</td>\n",
              "      <td>0</td>\n",
              "    </tr>\n",
              "    <tr>\n",
              "      <th>2</th>\n",
              "      <td>+/GXNtXWQVfKrEDqYAzcSw2xSPYMKWNj22m+5XkVQZc=</td>\n",
              "      <td>36</td>\n",
              "      <td>30</td>\n",
              "      <td>180</td>\n",
              "      <td>180</td>\n",
              "      <td>1</td>\n",
              "      <td>20170303</td>\n",
              "      <td>20170422</td>\n",
              "      <td>0</td>\n",
              "    </tr>\n",
              "    <tr>\n",
              "      <th>3</th>\n",
              "      <td>+/w1UrZwyka4C9oNH3+Q8fUf3fD8R3EwWrx57ODIsqk=</td>\n",
              "      <td>36</td>\n",
              "      <td>30</td>\n",
              "      <td>180</td>\n",
              "      <td>180</td>\n",
              "      <td>1</td>\n",
              "      <td>20170329</td>\n",
              "      <td>20170331</td>\n",
              "      <td>1</td>\n",
              "    </tr>\n",
              "    <tr>\n",
              "      <th>4</th>\n",
              "      <td>+00PGzKTYqtnb65mPKPyeHXcZEwqiEzktpQksaaSC3c=</td>\n",
              "      <td>41</td>\n",
              "      <td>30</td>\n",
              "      <td>99</td>\n",
              "      <td>99</td>\n",
              "      <td>1</td>\n",
              "      <td>20170323</td>\n",
              "      <td>20170423</td>\n",
              "      <td>0</td>\n",
              "    </tr>\n",
              "    <tr>\n",
              "      <th>...</th>\n",
              "      <td>...</td>\n",
              "      <td>...</td>\n",
              "      <td>...</td>\n",
              "      <td>...</td>\n",
              "      <td>...</td>\n",
              "      <td>...</td>\n",
              "      <td>...</td>\n",
              "      <td>...</td>\n",
              "      <td>...</td>\n",
              "    </tr>\n",
              "    <tr>\n",
              "      <th>1431004</th>\n",
              "      <td>zwF50wwaJI2TBKWhB42HRBJ6EQK0jgSo1Xmwb9Jq3SU=</td>\n",
              "      <td>32</td>\n",
              "      <td>180</td>\n",
              "      <td>536</td>\n",
              "      <td>536</td>\n",
              "      <td>0</td>\n",
              "      <td>20170215</td>\n",
              "      <td>20170817</td>\n",
              "      <td>0</td>\n",
              "    </tr>\n",
              "    <tr>\n",
              "      <th>1431005</th>\n",
              "      <td>zx/h5MzQQmsSat04wSfGpHp6N8aWLLwM1+7OV7ujmPY=</td>\n",
              "      <td>41</td>\n",
              "      <td>30</td>\n",
              "      <td>149</td>\n",
              "      <td>149</td>\n",
              "      <td>1</td>\n",
              "      <td>20170306</td>\n",
              "      <td>20170406</td>\n",
              "      <td>0</td>\n",
              "    </tr>\n",
              "    <tr>\n",
              "      <th>1431006</th>\n",
              "      <td>zxvgjIKjy18Fm+cIWUfYKr68z09+ILBxuMW0DnbeUZ8=</td>\n",
              "      <td>41</td>\n",
              "      <td>30</td>\n",
              "      <td>99</td>\n",
              "      <td>99</td>\n",
              "      <td>1</td>\n",
              "      <td>20170308</td>\n",
              "      <td>20170408</td>\n",
              "      <td>0</td>\n",
              "    </tr>\n",
              "    <tr>\n",
              "      <th>1431007</th>\n",
              "      <td>zzNhkExbpzmpjp9tXefiCUBtgNLgS+vZE7fFfTRDJVc=</td>\n",
              "      <td>38</td>\n",
              "      <td>30</td>\n",
              "      <td>149</td>\n",
              "      <td>149</td>\n",
              "      <td>0</td>\n",
              "      <td>20170318</td>\n",
              "      <td>20170417</td>\n",
              "      <td>0</td>\n",
              "    </tr>\n",
              "    <tr>\n",
              "      <th>1431008</th>\n",
              "      <td>zzZmdSzz7J9oyC/5nHr/HBvWg6k+p2W15b6lt/VKUQE=</td>\n",
              "      <td>32</td>\n",
              "      <td>180</td>\n",
              "      <td>699</td>\n",
              "      <td>699</td>\n",
              "      <td>0</td>\n",
              "      <td>20161212</td>\n",
              "      <td>20170613</td>\n",
              "      <td>0</td>\n",
              "    </tr>\n",
              "  </tbody>\n",
              "</table>\n",
              "<p>1431009 rows × 9 columns</p>\n",
              "</div>"
            ],
            "text/plain": [
              "                                                 msno  ...  is_cancel\n",
              "0        ++6eU4LsQ3UQ20ILS7d99XK8WbiVgbyYL4FUgzZR134=  ...          0\n",
              "1        ++lvGPJOinuin/8esghpnqdljm6NXS8m8Zwchc7gOeA=  ...          0\n",
              "2        +/GXNtXWQVfKrEDqYAzcSw2xSPYMKWNj22m+5XkVQZc=  ...          0\n",
              "3        +/w1UrZwyka4C9oNH3+Q8fUf3fD8R3EwWrx57ODIsqk=  ...          1\n",
              "4        +00PGzKTYqtnb65mPKPyeHXcZEwqiEzktpQksaaSC3c=  ...          0\n",
              "...                                               ...  ...        ...\n",
              "1431004  zwF50wwaJI2TBKWhB42HRBJ6EQK0jgSo1Xmwb9Jq3SU=  ...          0\n",
              "1431005  zx/h5MzQQmsSat04wSfGpHp6N8aWLLwM1+7OV7ujmPY=  ...          0\n",
              "1431006  zxvgjIKjy18Fm+cIWUfYKr68z09+ILBxuMW0DnbeUZ8=  ...          0\n",
              "1431007  zzNhkExbpzmpjp9tXefiCUBtgNLgS+vZE7fFfTRDJVc=  ...          0\n",
              "1431008  zzZmdSzz7J9oyC/5nHr/HBvWg6k+p2W15b6lt/VKUQE=  ...          0\n",
              "\n",
              "[1431009 rows x 9 columns]"
            ]
          },
          "metadata": {},
          "execution_count": 11
        }
      ]
    },
    {
      "cell_type": "code",
      "metadata": {
        "id": "zMBzD-f1ddn9"
      },
      "source": [
        "#https://www.analyticsvidhya.com/blog/2020/11/a-must-read-guide-on-how-to-work-with-pyspark-on-google-colab-for-data-scientists/\n",
        "!apt-get install openjdk-8-jdk-headless -qq > /dev/null"
      ],
      "execution_count": 12,
      "outputs": []
    }
  ]
}