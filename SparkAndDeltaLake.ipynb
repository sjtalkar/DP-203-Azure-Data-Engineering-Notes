{
  "nbformat": 4,
  "nbformat_minor": 0,
  "metadata": {
    "colab": {
      "name": "Untitled5.ipynb",
      "provenance": [],
      "authorship_tag": "ABX9TyO5JNmF9uT8NKrGJJsvW4ys",
      "include_colab_link": true
    },
    "kernelspec": {
      "name": "python3",
      "display_name": "Python 3"
    },
    "language_info": {
      "name": "python"
    }
  },
  "cells": [
    {
      "cell_type": "markdown",
      "metadata": {
        "id": "view-in-github",
        "colab_type": "text"
      },
      "source": [
        "<a href=\"https://colab.research.google.com/github/sjtalkar/DP-203-Azure-Data-Engineering-Notes/blob/main/SparkAndDeltaLake.ipynb\" target=\"_parent\"><img src=\"https://colab.research.google.com/assets/colab-badge.svg\" alt=\"Open In Colab\"/></a>"
      ]
    },
    {
      "cell_type": "code",
      "metadata": {
        "colab": {
          "base_uri": "https://localhost:8080/"
        },
        "id": "yjFVFoiSGZiL",
        "outputId": "b08532bf-1a26-49cc-c78e-a46f68123ba0"
      },
      "source": [
        "from google.colab import drive\n",
        "drive.mount('/content/gdrive')"
      ],
      "execution_count": 1,
      "outputs": [
        {
          "output_type": "stream",
          "name": "stdout",
          "text": [
            "Mounted at /content/gdrive\n"
          ]
        }
      ]
    },
    {
      "cell_type": "code",
      "metadata": {
        "id": "_XXkSqkEH6Rb"
      },
      "source": [
        "!apt-get install openjdk-11-jdk-headless -qq > /dev/null\n",
        "!tar xf 'gdrive/My Drive/Databricks/spark-3.0.0-bin-hadoop3.2.tgz' \n",
        "!pip -q install findspark"
      ],
      "execution_count": 11,
      "outputs": []
    },
    {
      "cell_type": "code",
      "metadata": {
        "colab": {
          "base_uri": "https://localhost:8080/"
        },
        "id": "0IDFUblaIUAp",
        "outputId": "fdaf808a-8c1e-4fe7-f872-e4fe8b271481"
      },
      "source": [
        "!pwd"
      ],
      "execution_count": 12,
      "outputs": [
        {
          "output_type": "stream",
          "name": "stdout",
          "text": [
            "/content\n"
          ]
        }
      ]
    },
    {
      "cell_type": "code",
      "metadata": {
        "colab": {
          "base_uri": "https://localhost:8080/"
        },
        "id": "C-apxLALIXQL",
        "outputId": "80a2af5f-d2c9-40bd-d6ea-6205926739a3"
      },
      "source": [
        "%ls 'gdrive/My Drive/Databricks/spark-3.0.0-bin-hadoop3.2.tgz'"
      ],
      "execution_count": 10,
      "outputs": [
        {
          "output_type": "stream",
          "name": "stdout",
          "text": [
            "'gdrive/My Drive/Databricks/spark-3.0.0-bin-hadoop3.2.tgz'\n"
          ]
        }
      ]
    },
    {
      "cell_type": "code",
      "metadata": {
        "colab": {
          "base_uri": "https://localhost:8080/"
        },
        "id": "mxykmwXDI9H6",
        "outputId": "c2d3e016-fe66-4f04-acb6-ce0970c83669"
      },
      "source": [
        "%ls /content"
      ],
      "execution_count": 14,
      "outputs": [
        {
          "output_type": "stream",
          "name": "stdout",
          "text": [
            "\u001b[0m\u001b[01;34mgdrive\u001b[0m/  \u001b[01;34msample_data\u001b[0m/  \u001b[01;34mspark-3.0.0-bin-hadoop3.2\u001b[0m/\n"
          ]
        }
      ]
    },
    {
      "cell_type": "code",
      "metadata": {
        "id": "LZ_Pm5r-JL0q"
      },
      "source": [
        "import os\n",
        "os.environ[\"JAVA_HOME\"] = \"/usr/lib/jvm/java-11-openjdk-amd64\"\n",
        "os.environ[\"SPARK_HOME\"] = \"/content/spark-3.0.0-bin-hadoop3.2\"\n",
        "os.environ['PYSPARK_SUBMIT_ARGS'] = '--packages io.delta:delta-core_2.12:0.7.0 --conf spark.sql.extensions=io.delta.sql.DeltaSparkSessionExtension --conf spark.sql.catalog.spark_catalog=org.apache.spark.sql.delta.catalog.DeltaCatalog pyspark-shell'\n"
      ],
      "execution_count": 15,
      "outputs": []
    },
    {
      "cell_type": "code",
      "metadata": {
        "id": "1HmDC0BtJPNn"
      },
      "source": [
        "import findspark\n",
        "findspark.init()"
      ],
      "execution_count": 16,
      "outputs": []
    },
    {
      "cell_type": "code",
      "metadata": {
        "id": "KWujwd9IJQWm"
      },
      "source": [
        "from pyspark.sql import SparkSession\n",
        "from pyspark.sql.functions import *\n",
        "spark = SparkSession.builder.appName('delta_session').getOrCreate()"
      ],
      "execution_count": 17,
      "outputs": []
    },
    {
      "cell_type": "code",
      "metadata": {
        "colab": {
          "base_uri": "https://localhost:8080/"
        },
        "id": "2dpJl9WlJW1U",
        "outputId": "6942fb24-ef1d-4d67-822e-b5a2bca9a83d"
      },
      "source": [
        "history = spark.range(1,1000)\n",
        "history = history.withColumn(\"type\", lit(\"history\"))\n",
        "history.show()"
      ],
      "execution_count": 19,
      "outputs": [
        {
          "output_type": "stream",
          "name": "stdout",
          "text": [
            "+---+-------+\n",
            "| id|   type|\n",
            "+---+-------+\n",
            "|  1|history|\n",
            "|  2|history|\n",
            "|  3|history|\n",
            "|  4|history|\n",
            "|  5|history|\n",
            "|  6|history|\n",
            "|  7|history|\n",
            "|  8|history|\n",
            "|  9|history|\n",
            "| 10|history|\n",
            "| 11|history|\n",
            "| 12|history|\n",
            "| 13|history|\n",
            "| 14|history|\n",
            "| 15|history|\n",
            "| 16|history|\n",
            "| 17|history|\n",
            "| 18|history|\n",
            "| 19|history|\n",
            "| 20|history|\n",
            "+---+-------+\n",
            "only showing top 20 rows\n",
            "\n"
          ]
        }
      ]
    },
    {
      "cell_type": "code",
      "metadata": {
        "id": "2B2IN33SJd7N"
      },
      "source": [
        "history.write.format(\"delta\").save(\"delta_sample_data\")"
      ],
      "execution_count": 20,
      "outputs": []
    },
    {
      "cell_type": "code",
      "metadata": {
        "colab": {
          "base_uri": "https://localhost:8080/"
        },
        "id": "g-m1HTpsJo28",
        "outputId": "44763b03-be0e-4176-e694-ce808730c76e"
      },
      "source": [
        "!ls -l delta_sample_data"
      ],
      "execution_count": 21,
      "outputs": [
        {
          "output_type": "stream",
          "name": "stdout",
          "text": [
            "total 12\n",
            "drwxr-xr-x 2 root root 4096 Nov  7 20:45 _delta_log\n",
            "-rw-r--r-- 1 root root 3484 Nov  7 20:45 part-00000-db51124c-a038-4501-8671-c34bd59f10ce-c000.snappy.parquet\n",
            "-rw-r--r-- 1 root root 2746 Nov  7 20:45 part-00001-b432e9cb-a17d-4d0c-9225-17932995ac2b-c000.snappy.parquet\n"
          ]
        }
      ]
    }
  ]
}