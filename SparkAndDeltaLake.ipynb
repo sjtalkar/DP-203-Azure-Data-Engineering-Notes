{
  "nbformat": 4,
  "nbformat_minor": 0,
  "metadata": {
    "colab": {
      "name": "Untitled5.ipynb",
      "provenance": [],
      "authorship_tag": "ABX9TyP7JK6S7GXuH0gUPQN3/hmV",
      "include_colab_link": true
    },
    "kernelspec": {
      "name": "python3",
      "display_name": "Python 3"
    },
    "language_info": {
      "name": "python"
    }
  },
  "cells": [
    {
      "cell_type": "markdown",
      "metadata": {
        "id": "view-in-github",
        "colab_type": "text"
      },
      "source": [
        "<a href=\"https://colab.research.google.com/github/sjtalkar/DP-203-Azure-Data-Engineering-Notes/blob/main/SparkAndDeltaLake.ipynb\" target=\"_parent\"><img src=\"https://colab.research.google.com/assets/colab-badge.svg\" alt=\"Open In Colab\"/></a>"
      ]
    },
    {
      "cell_type": "code",
      "metadata": {
        "colab": {
          "base_uri": "https://localhost:8080/"
        },
        "id": "yjFVFoiSGZiL",
        "outputId": "b08532bf-1a26-49cc-c78e-a46f68123ba0"
      },
      "source": [
        "from google.colab import drive\n",
        "drive.mount('/content/gdrive')"
      ],
      "execution_count": 1,
      "outputs": [
        {
          "output_type": "stream",
          "name": "stdout",
          "text": [
            "Mounted at /content/gdrive\n"
          ]
        }
      ]
    },
    {
      "cell_type": "code",
      "metadata": {
        "id": "_XXkSqkEH6Rb"
      },
      "source": [
        "!apt-get install openjdk-11-jdk-headless -qq > /dev/null\n",
        "!tar xf 'gdrive/My Drive/Databricks/spark-3.0.0-bin-hadoop3.2.tgz' \n",
        "!pip -q install findspark"
      ],
      "execution_count": 11,
      "outputs": []
    },
    {
      "cell_type": "code",
      "metadata": {
        "colab": {
          "base_uri": "https://localhost:8080/"
        },
        "id": "0IDFUblaIUAp",
        "outputId": "fdaf808a-8c1e-4fe7-f872-e4fe8b271481"
      },
      "source": [
        "!pwd"
      ],
      "execution_count": 12,
      "outputs": [
        {
          "output_type": "stream",
          "name": "stdout",
          "text": [
            "/content\n"
          ]
        }
      ]
    },
    {
      "cell_type": "code",
      "metadata": {
        "colab": {
          "base_uri": "https://localhost:8080/"
        },
        "id": "C-apxLALIXQL",
        "outputId": "80a2af5f-d2c9-40bd-d6ea-6205926739a3"
      },
      "source": [
        "%ls 'gdrive/My Drive/Databricks/spark-3.0.0-bin-hadoop3.2.tgz'"
      ],
      "execution_count": 10,
      "outputs": [
        {
          "output_type": "stream",
          "name": "stdout",
          "text": [
            "'gdrive/My Drive/Databricks/spark-3.0.0-bin-hadoop3.2.tgz'\n"
          ]
        }
      ]
    },
    {
      "cell_type": "code",
      "metadata": {
        "colab": {
          "base_uri": "https://localhost:8080/"
        },
        "id": "mxykmwXDI9H6",
        "outputId": "c2d3e016-fe66-4f04-acb6-ce0970c83669"
      },
      "source": [
        "%ls /content"
      ],
      "execution_count": 14,
      "outputs": [
        {
          "output_type": "stream",
          "name": "stdout",
          "text": [
            "\u001b[0m\u001b[01;34mgdrive\u001b[0m/  \u001b[01;34msample_data\u001b[0m/  \u001b[01;34mspark-3.0.0-bin-hadoop3.2\u001b[0m/\n"
          ]
        }
      ]
    },
    {
      "cell_type": "code",
      "metadata": {
        "id": "LZ_Pm5r-JL0q"
      },
      "source": [
        "import os\n",
        "os.environ[\"JAVA_HOME\"] = \"/usr/lib/jvm/java-11-openjdk-amd64\"\n",
        "os.environ[\"SPARK_HOME\"] = \"/content/spark-3.0.0-bin-hadoop3.2\"\n",
        "os.environ['PYSPARK_SUBMIT_ARGS'] = '--packages io.delta:delta-core_2.12:0.7.0 --conf spark.sql.extensions=io.delta.sql.DeltaSparkSessionExtension --conf spark.sql.catalog.spark_catalog=org.apache.spark.sql.delta.catalog.DeltaCatalog pyspark-shell'\n"
      ],
      "execution_count": 15,
      "outputs": []
    },
    {
      "cell_type": "code",
      "metadata": {
        "id": "1HmDC0BtJPNn"
      },
      "source": [
        "import findspark\n",
        "findspark.init()"
      ],
      "execution_count": 16,
      "outputs": []
    },
    {
      "cell_type": "code",
      "metadata": {
        "id": "KWujwd9IJQWm"
      },
      "source": [
        "from pyspark.sql import SparkSession\n",
        "from pyspark.sql.functions import *\n",
        "spark = SparkSession.builder.appName('delta_session').getOrCreate()"
      ],
      "execution_count": 17,
      "outputs": []
    },
    {
      "cell_type": "code",
      "metadata": {
        "id": "2dpJl9WlJW1U"
      },
      "source": [
        "from pyspark.sql.types import *"
      ],
      "execution_count": 22,
      "outputs": []
    },
    {
      "cell_type": "code",
      "metadata": {
        "id": "2B2IN33SJd7N"
      },
      "source": [
        "transaction_schema = StructType([\n",
        "            StructField('msno', StringType()),\n",
        "            StructField('payment_method_id', IntegerType()),\n",
        "            StructField('payment_plan_days', IntegerType()),\n",
        "            StructField('plan_list_price', IntegerType()),\n",
        "            StructField('actual_amount_paid', IntegerType()),\n",
        "            StructField('is_auto_renew', IntegerType()),\n",
        "            StructField('transaction_date', DateType()),\n",
        "            StructField('membership_expire_date', DateType()),\n",
        "            StructField('is_cancel', IntegerType()),\n",
        "            ])\n"
      ],
      "execution_count": 25,
      "outputs": []
    },
    {
      "cell_type": "code",
      "metadata": {
        "id": "XOTK_NBNTaXB"
      },
      "source": [
        "# Work with the data using DELTA"
      ],
      "execution_count": 31,
      "outputs": []
    },
    {
      "cell_type": "code",
      "metadata": {
        "id": "g-m1HTpsJo28"
      },
      "source": [
        "#read data from csv\n",
        "transactions = (\n",
        "                spark\n",
        "                  .read\n",
        "                  .csv(\n",
        "                      'gdrive/My Drive/Databricks/transactions.csv',\n",
        "                       schema=transaction_schema,\n",
        "                       header=True,\n",
        "                       dateFormat = 'yyyyMMdd'\n",
        "                  )\n",
        ")"
      ],
      "execution_count": 26,
      "outputs": []
    },
    {
      "cell_type": "code",
      "metadata": {
        "id": "xkc125ybRbJh"
      },
      "source": [
        "#persist in delta lake format - essentially a parquet file with additional features such as history and versioning\n",
        "# This creates  folders called  G:\\My Drive\\Databricks\\transactions\\transaction_date=2015-01-01 ......\n",
        "(\n",
        "  transactions\n",
        "    .write\n",
        "    .format('delta')\n",
        "    .partitionBy('transaction_date')\n",
        "    .mode('overwrite')\n",
        "    .save('gdrive/My Drive/Databricks/transactions',)    \n",
        ")"
      ],
      "execution_count": 28,
      "outputs": []
    },
    {
      "cell_type": "code",
      "metadata": {
        "id": "uDFjfrk4TmlO"
      },
      "source": [
        "# create database to house SQL tables\n",
        "_ = spark.sql('CREATE DATABASE IF NOT EXISTS kkbox')"
      ],
      "execution_count": 32,
      "outputs": []
    },
    {
      "cell_type": "code",
      "metadata": {
        "colab": {
          "base_uri": "https://localhost:8080/"
        },
        "id": "B6UQc1ouSEqZ",
        "outputId": "29d1a13f-9e63-49d4-94c1-cf63cb267595"
      },
      "source": [
        "spark.sql(\"\"\"\n",
        "    CREATE TABLE kkbox.transactions\n",
        "    USING DELTA\n",
        "    LOCATION 'gdrive/My Drive/Databricks/transactions'\n",
        "\"\"\")"
      ],
      "execution_count": 33,
      "outputs": [
        {
          "output_type": "execute_result",
          "data": {
            "text/plain": [
              "DataFrame[]"
            ]
          },
          "metadata": {},
          "execution_count": 33
        }
      ]
    }
  ]
}